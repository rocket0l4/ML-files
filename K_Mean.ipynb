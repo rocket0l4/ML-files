{
  "nbformat": 4,
  "nbformat_minor": 0,
  "metadata": {
    "colab": {
      "provenance": [],
      "authorship_tag": "ABX9TyNE2Y2r6Kl3qn3XFS4Erl0K",
      "include_colab_link": true
    },
    "kernelspec": {
      "name": "python3",
      "display_name": "Python 3"
    },
    "language_info": {
      "name": "python"
    }
  },
  "cells": [
    {
      "cell_type": "markdown",
      "metadata": {
        "id": "view-in-github",
        "colab_type": "text"
      },
      "source": [
        "<a href=\"https://colab.research.google.com/github/rocket0l4/ML-files/blob/main/K_Mean.ipynb\" target=\"_parent\"><img src=\"https://colab.research.google.com/assets/colab-badge.svg\" alt=\"Open In Colab\"/></a>"
      ]
    },
    {
      "cell_type": "markdown",
      "source": [
        "#This file is not completed yet....."
      ],
      "metadata": {
        "id": "UqMzZ2SF1zNK"
      }
    },
    {
      "cell_type": "code",
      "execution_count": null,
      "metadata": {
        "id": "ygJ3jtzi1xJB"
      },
      "outputs": [],
      "source": [
        "import random\n",
        "import numpy as np\n",
        "\n",
        "class KMeans:\n",
        "    def __init__(self,n_clusters=2,max_iter=100):\n",
        "        self.n_clusters = n_clusters\n",
        "        self.max_iter = max_iter\n",
        "        self.centroids = None\n",
        "\n",
        "    def fit_predict(self,X):\n",
        "\n",
        "        random_index = random.sample(range(0,X.shape[0]),self.n_clusters)\n",
        "        self.centroids = X[random_index]\n",
        "\n",
        "        for i in range(self.max_iter):\n",
        "            # assign clusters\n",
        "            cluster_group = self.assign_clusters(X)\n",
        "            old_centroids = self.centroids\n",
        "            # move centroids\n",
        "            self.centroids = self.move_centroids(X,cluster_group)\n",
        "            # check finish\n",
        "            if (old_centroids == self.centroids).all():\n",
        "                break\n",
        "\n",
        "        return cluster_group\n",
        "\n",
        "    def assign_clusters(self,X):\n",
        "        cluster_group = []\n",
        "        distances = []\n",
        "\n",
        "        for row in X:\n",
        "            for centroid in self.centroids:\n",
        "                distances.append(np.sqrt(np.dot(row-centroid,row-centroid)))\n",
        "            min_distance = min(distances)\n",
        "            index_pos = distances.index(min_distance)\n",
        "            cluster_group.append(index_pos)\n",
        "            distances.clear()\n",
        "\n",
        "        return np.array(cluster_group)\n",
        "\n",
        "    def move_centroids(self,X,cluster_group):\n",
        "        new_centroids = []\n",
        "\n",
        "        cluster_type = np.unique(cluster_group)\n",
        "\n",
        "        for type in cluster_type:\n",
        "            new_centroids.append(X[cluster_group == type].mean(axis=0))\n",
        "\n",
        "        return np.array(new_centroids)\n"
      ]
    }
  ]
}