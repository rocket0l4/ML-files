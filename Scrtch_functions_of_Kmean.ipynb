{
  "nbformat": 4,
  "nbformat_minor": 0,
  "metadata": {
    "colab": {
      "provenance": [],
      "authorship_tag": "ABX9TyPrT0VNmV36ToBE+LI5n/1M",
      "include_colab_link": true
    },
    "kernelspec": {
      "name": "python3",
      "display_name": "Python 3"
    },
    "language_info": {
      "name": "python"
    }
  },
  "cells": [
    {
      "cell_type": "markdown",
      "metadata": {
        "id": "view-in-github",
        "colab_type": "text"
      },
      "source": [
        "<a href=\"https://colab.research.google.com/github/rocket0l4/ML-files/blob/main/Scrtch_functions_of_Kmean.ipynb\" target=\"_parent\"><img src=\"https://colab.research.google.com/assets/colab-badge.svg\" alt=\"Open In Colab\"/></a>"
      ]
    },
    {
      "cell_type": "code",
      "execution_count": 13,
      "metadata": {
        "id": "ZCVqSdRhinkm"
      },
      "outputs": [],
      "source": [
        "import pandas as pd\n",
        "import numpy as np\n",
        "import random"
      ]
    },
    {
      "cell_type": "code",
      "source": [
        "from sklearn.datasets import make_blobs\n",
        "import matplotlib.pyplot as plt"
      ],
      "metadata": {
        "id": "f15ikdBGjAJy"
      },
      "execution_count": 2,
      "outputs": []
    },
    {
      "cell_type": "markdown",
      "source": [
        "#Taking centroids and cluster standard deviations."
      ],
      "metadata": {
        "id": "2gHh9Bw8jryv"
      }
    },
    {
      "cell_type": "code",
      "source": [
        "centroids = [(-5,-5),(5,5)]\n",
        "cluster_std = [1,1]"
      ],
      "metadata": {
        "id": "KHHtzBsZjHBq"
      },
      "execution_count": 5,
      "outputs": []
    },
    {
      "cell_type": "code",
      "source": [
        "X,y = make_blobs(n_samples =100,cluster_std = cluster_std,\n",
        "                 centers = centroids,n_features=2,random_state =2)"
      ],
      "metadata": {
        "id": "DEMEIGl5jOuB"
      },
      "execution_count": 6,
      "outputs": []
    },
    {
      "cell_type": "code",
      "source": [
        "plt.scatter(X[:,0],X[:,1])\n",
        "plt.show()"
      ],
      "metadata": {
        "colab": {
          "base_uri": "https://localhost:8080/",
          "height": 430
        },
        "id": "rXt-dwXFjbm8",
        "outputId": "4e580f7b-b4ca-4bcc-8171-6b59dc0eed0e"
      },
      "execution_count": 7,
      "outputs": [
        {
          "output_type": "display_data",
          "data": {
            "text/plain": [
              "<Figure size 640x480 with 1 Axes>"
            ],
            "image/png": "[encoded data removed]"
          },
          "metadata": {}
        }
      ]
    },
    {
      "cell_type": "markdown",
      "source": [
        "#Creating KMeans class...."
      ],
      "metadata": {
        "id": "wbaXoInakFyV"
      }
    },
    {
      "cell_type": "code",
      "source": [
        "class KMeans:\n",
        "  def __init__(self,n_clusters =2,max_iter=100):\n",
        "    self.n_clusters = n_clusters\n",
        "    self.max_iter = max_iter\n",
        "    self.centroids = None\n",
        "\n",
        "  def fit_predict(self,X):\n",
        "    random_index = random.sample(range(0,X.shape[0],sefl.n_clusters))\n",
        "    self.centroids = X[random_index]\n",
        "\n",
        "    for i in range(self.max_iter):\n",
        "      #Assign clusters\n",
        "      cluster_group = self.assign_cluster(X)\n",
        "\n",
        "      #move centroids\n",
        "      old_centroids = self.centroids\n",
        "      self.centroids = self.move_centroids(X,cluster_group)\n",
        "\n",
        "      #Check finish\n",
        "      if (old_centroids == self.centroids).all():\n",
        "        break\n",
        "\n",
        "    return cluster_group\n",
        "\n",
        "  def assign_clusters(self,X):\n",
        "    cluster_group = []\n",
        "    distances  = []\n",
        "\n",
        "    for row in X:\n",
        "      for centroids in self.centroids:\n",
        "        distances.append(np.sqrt(np.dot(row-centroids,row-centroids)))\n",
        "      min_distance = min(distances)\n",
        "      index_pos = distances.index(min_distance)\n",
        "      cluster_group.append(index_pos)\n",
        "      distances.clear()\n",
        "\n",
        "    return np.array(cluster_group)\n",
        "\n",
        "\n",
        "  def move_centroids(self,X,cluster_group):\n",
        "    #In cluster_group we already knows that what the points we have 0 or 1.\n",
        "    #So we just need to saparate the 0 points and 1 points, and calcuate mean saparately..\n",
        "    #Now they become our new centoids..\n",
        "    new_centroids = []\n",
        "\n",
        "    #Extracting unique clusters\n",
        "    cluster_type = np.unique(cluster_group)\n",
        "\n",
        "    for type in cluster_type:\n",
        "      new_centroid.append(X[cluster_group == type].mean(axis=0))#axis=0 because we want column wise...\n",
        "\n",
        "    return np.array(new_centroids)"
      ],
      "metadata": {
        "id": "jipDnNopjkZt"
      },
      "execution_count": 17,
      "outputs": []
    },
    {
      "cell_type": "code",
      "source": [],
      "metadata": {
        "id": "4ie6gwpvktJU"
      },
      "execution_count": null,
      "outputs": []
    }
  ]
}